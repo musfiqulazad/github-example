{
 "cells": [
  {
   "cell_type": "markdown",
   "metadata": {
    "collapsed": true
   },
   "source": [
    "# IBM Coursera Capstone Project"
   ]
  },
  {
   "cell_type": "markdown",
   "metadata": {},
   "source": [
    "## Report Week 4\n"
   ]
  },
  {
   "cell_type": "markdown",
   "metadata": {},
   "source": [
    "## Musfiqul Azad"
   ]
  },
  {
   "cell_type": "markdown",
   "metadata": {},
   "source": [
    "## 26th April 2020"
   ]
  },
  {
   "cell_type": "markdown",
   "metadata": {},
   "source": [
    "## Project Title: Battle of Neighborhoods(Week 1)"
   ]
  },
  {
   "cell_type": "markdown",
   "metadata": {},
   "source": [
    "### 1. Introduction"
   ]
  },
  {
   "cell_type": "markdown",
   "metadata": {},
   "source": [
    "#### 1.1 Introduction"
   ]
  },
  {
   "cell_type": "markdown",
   "metadata": {},
   "source": [
    "I have been pursuing this course with IBM and coursera, and I would like to thank IBM for providing such high quality free software platforms like IBM Watson Studio and Skills Network Labs, as I was able to learn a lot of things. In this Capstone project I will try my best to put all the knowledge and try to get the best results. I will be comparing two cities Toronto and New York and find similarities and differences between the two based on venues and neighborhood."
   ]
  },
  {
   "cell_type": "markdown",
   "metadata": {},
   "source": [
    "#### 1.2 Buisness Problem/Interpretation"
   ]
  },
  {
   "cell_type": "markdown",
   "metadata": {},
   "source": [
    "New York City and Toronto are the well known cities around the world for their various features.I will be comparing the two cities based on their neighborhoods and venue, and try to find a relation between the two cities. That is try to find similarity or differences between the two. We will use geospatial data to analyse and visualize the neighborhoods of the cities and compare them with the various methods and techniques(Those taugh in the course)."
   ]
  },
  {
   "cell_type": "markdown",
   "metadata": {},
   "source": [
    "#### 1.3 Interest"
   ]
  },
  {
   "cell_type": "markdown",
   "metadata": {},
   "source": [
    "This information and conclusion will be useful to people who wants to invest or start business in the North-American Continent and will also help in various works. Also for various research purposes and these financial capitals can be analysed on various levels as well."
   ]
  },
  {
   "cell_type": "markdown",
   "metadata": {},
   "source": [
    "### 2. Data"
   ]
  },
  {
   "cell_type": "markdown",
   "metadata": {},
   "source": [
    "#### 2.1 Data Collection"
   ]
  },
  {
   "cell_type": "markdown",
   "metadata": {},
   "source": [
    "The data we reqiure is geojson data or geospatial data of two cities which can be further be used to retrive data from the FourSquare website to gather information like Venues, Neighborhood and Tips etc. The geospatial data for New York was given by our instructor and can be easily accesssed while the data for Toronto will be taken from Wikipedia as a list of postal codes."
   ]
  },
  {
   "cell_type": "markdown",
   "metadata": {},
   "source": [
    "#### 2.2 Data PreProcessing"
   ]
  },
  {
   "cell_type": "markdown",
   "metadata": {},
   "source": [
    "The data for New York City is already ready for use while the data for toronto needs to be processed. The data is in form of HTML List/Table. To process this data we can use a very helpful library in Python named BeautifulSoup which can convert this HTML data into pandas DataFrame. This dataframe can be further modified accrodingly."
   ]
  },
  {
   "cell_type": "markdown",
   "metadata": {},
   "source": [
    "#### 2.3 Data Prepration and Understanding"
   ]
  },
  {
   "cell_type": "markdown",
   "metadata": {},
   "source": [
    "The data of New York and Toronto can be used into FourSquare account and a lot of useful information about neighborhoods, venues there tips, etc can recieved from there servers. These venues can be clustered, visualizied and compared to give great results."
   ]
  }
 ],
 "metadata": {
  "kernelspec": {
   "display_name": "Python 3.6",
   "language": "python",
   "name": "python3"
  },
  "language_info": {
   "codemirror_mode": {
    "name": "ipython",
    "version": 3
   },
   "file_extension": ".py",
   "mimetype": "text/x-python",
   "name": "python",
   "nbconvert_exporter": "python",
   "pygments_lexer": "ipython3",
   "version": "3.6.9"
  }
 },
 "nbformat": 4,
 "nbformat_minor": 1
}
